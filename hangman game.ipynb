{
 "cells": [
  {
   "cell_type": "code",
   "execution_count": 9,
   "id": "fdabf5c5-cfc1-447a-bba5-54d47dda4d14",
   "metadata": {},
   "outputs": [
    {
     "name": "stdin",
     "output_type": "stream",
     "text": [
      "Enter your Name :  w\n"
     ]
    },
    {
     "name": "stdout",
     "output_type": "stream",
     "text": [
      "Start your game w\n",
      "Guess a fruit name : \n",
      "_ _ _ _ _ _ _ _ _ _ \n",
      "\n"
     ]
    },
    {
     "name": "stdin",
     "output_type": "stream",
     "text": [
      "enter guessed leter w\n"
     ]
    },
    {
     "name": "stdout",
     "output_type": "stream",
     "text": [
      "w _ _ _ _ _ _ _ _ _ "
     ]
    },
    {
     "name": "stdin",
     "output_type": "stream",
     "text": [
      "enter guessed leter a\n"
     ]
    },
    {
     "name": "stdout",
     "output_type": "stream",
     "text": [
      "w a _ _ _ _ _ _ _ _ "
     ]
    },
    {
     "name": "stdin",
     "output_type": "stream",
     "text": [
      "enter guessed leter t\n"
     ]
    },
    {
     "name": "stdout",
     "output_type": "stream",
     "text": [
      "w a t _ _ _ _ _ _ _ "
     ]
    },
    {
     "name": "stdin",
     "output_type": "stream",
     "text": [
      "enter guessed leter e\n"
     ]
    },
    {
     "name": "stdout",
     "output_type": "stream",
     "text": [
      "w a t e _ _ e _ _ _ "
     ]
    },
    {
     "name": "stdin",
     "output_type": "stream",
     "text": [
      "enter guessed leter r\n"
     ]
    },
    {
     "name": "stdout",
     "output_type": "stream",
     "text": [
      "w a t e r _ e _ _ _ "
     ]
    },
    {
     "name": "stdin",
     "output_type": "stream",
     "text": [
      "enter guessed leter m\n"
     ]
    },
    {
     "name": "stdout",
     "output_type": "stream",
     "text": [
      "w a t e r m e _ _ _ "
     ]
    },
    {
     "name": "stdin",
     "output_type": "stream",
     "text": [
      "enter guessed leter e\n"
     ]
    },
    {
     "name": "stdout",
     "output_type": "stream",
     "text": [
      "you have already guessed the letter !!\n"
     ]
    },
    {
     "name": "stdin",
     "output_type": "stream",
     "text": [
      "enter guessed leter l\n"
     ]
    },
    {
     "name": "stdout",
     "output_type": "stream",
     "text": [
      "w a t e r m e l _ _ "
     ]
    },
    {
     "name": "stdin",
     "output_type": "stream",
     "text": [
      "enter guessed leter o\n"
     ]
    },
    {
     "name": "stdout",
     "output_type": "stream",
     "text": [
      "w a t e r m e l o _ "
     ]
    },
    {
     "name": "stdin",
     "output_type": "stream",
     "text": [
      "enter guessed leter n\n"
     ]
    },
    {
     "name": "stdout",
     "output_type": "stream",
     "text": [
      "The word is:  watermelon\n",
      "Congratulations, You won!\n"
     ]
    }
   ],
   "source": [
    "import random as rd\n",
    "from collections import Counter\n",
    "sample = \"apple banana mango strawberry orange grape pineapple apricot lemon coconut watermelon cherry papaya berry peach lychee muskmelon \"\n",
    "sample = sample.split(\" \")\n",
    "word = rd.choice(sample)\n",
    "name = str(input(\"Enter your Name : \"))\n",
    "\n",
    "print(\"Start your game \"+name)\n",
    "\n",
    "print(\"Guess a fruit name : \")\n",
    "for i in word:\n",
    "    print(\"_\",end=\" \")\n",
    "print(\"\\n\")\n",
    "playing = True\n",
    "letter = ''\n",
    "chances = len(word)+2\n",
    "crt = 0\n",
    "flag = 0\n",
    "while chances != 0 and flag == 0:\n",
    "    chances-=1\n",
    "    try:\n",
    "        guess = str(input(\"enter guessed leter\"))\n",
    "    except:\n",
    "        print(\"enter only letter\")\n",
    "        continue\n",
    "    if not guess.isalpha():\n",
    "        print(\"enter only letter!!\")\n",
    "        continue\n",
    "    elif len(guess) > 1:\n",
    "        print(\"enter single letter only!!!\")\n",
    "        continue\n",
    "    elif guess in letter:\n",
    "        print(\"you have already guessed the letter !!\")\n",
    "        continue\n",
    "    if guess in word:\n",
    "        k=word.count(guess)\n",
    "        for _ in range(k):\n",
    "            letter+=guess\n",
    "    for char in word:\n",
    "        if char in letter and Counter(letter) != Counter(word):\n",
    "            print(char,end=\" \")\n",
    "            crt+=1\n",
    "        elif Counter(letter) == Counter(word):\n",
    "            print(\"The word is: \", end=' ') \n",
    "            print(word) \n",
    "            flag = 1\n",
    "            print('Congratulations, You won!')\n",
    "            break\n",
    "            break\n",
    "        else:\n",
    "            print('_', end=' ')\n",
    "    if chances <= 0 and Counter(letter) != Counter(word):\n",
    "        print()\n",
    "        print('You lost! Try again..')\n",
    "        print(\"the word is : \",word)\n",
    "        "
   ]
  },
  {
   "cell_type": "code",
   "execution_count": null,
   "id": "5a223e9a-8de1-4070-afb9-02aea34aaeb8",
   "metadata": {},
   "outputs": [],
   "source": [
    "\n"
   ]
  }
 ],
 "metadata": {
  "kernelspec": {
   "display_name": "Python 3 (ipykernel)",
   "language": "python",
   "name": "python3"
  },
  "language_info": {
   "codemirror_mode": {
    "name": "ipython",
    "version": 3
   },
   "file_extension": ".py",
   "mimetype": "text/x-python",
   "name": "python",
   "nbconvert_exporter": "python",
   "pygments_lexer": "ipython3",
   "version": "3.11.7"
  }
 },
 "nbformat": 4,
 "nbformat_minor": 5
}
