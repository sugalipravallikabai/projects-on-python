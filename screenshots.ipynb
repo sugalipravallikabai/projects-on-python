{
 "cells": [
  {
   "cell_type": "code",
   "execution_count": 1,
   "id": "c6190ecf-d15d-4aec-aa1f-e58a089df067",
   "metadata": {},
   "outputs": [
    {
     "name": "stdout",
     "output_type": "stream",
     "text": [
      "Requirement already satisfied: pyscreenshot in c:\\users\\windows\\anaconda3\\lib\\site-packages (3.1)\n",
      "Requirement already satisfied: EasyProcess in c:\\users\\windows\\anaconda3\\lib\\site-packages (from pyscreenshot) (1.1)\n",
      "Requirement already satisfied: entrypoint2 in c:\\users\\windows\\anaconda3\\lib\\site-packages (from pyscreenshot) (1.1)\n",
      "Requirement already satisfied: mss in c:\\users\\windows\\anaconda3\\lib\\site-packages (from pyscreenshot) (9.0.1)\n",
      "Note: you may need to restart the kernel to use updated packages.\n"
     ]
    }
   ],
   "source": [
    "pip install pyscreenshot"
   ]
  },
  {
   "cell_type": "code",
   "execution_count": 2,
   "id": "42d35c90-0a11-48aa-b321-0f41535834d5",
   "metadata": {},
   "outputs": [],
   "source": [
    "import pyscreenshot as ps\n",
    "img = ps.grab()\n",
    "img.show()"
   ]
  },
  {
   "cell_type": "code",
   "execution_count": null,
   "id": "dfe3509c-1e37-42d6-8fd2-e9cc6e25a4e8",
   "metadata": {},
   "outputs": [],
   "source": []
  }
 ],
 "metadata": {
  "kernelspec": {
   "display_name": "Python 3 (ipykernel)",
   "language": "python",
   "name": "python3"
  },
  "language_info": {
   "codemirror_mode": {
    "name": "ipython",
    "version": 3
   },
   "file_extension": ".py",
   "mimetype": "text/x-python",
   "name": "python",
   "nbconvert_exporter": "python",
   "pygments_lexer": "ipython3",
   "version": "3.11.7"
  }
 },
 "nbformat": 4,
 "nbformat_minor": 5
}
